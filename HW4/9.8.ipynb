{
 "cells": [
  {
   "cell_type": "code",
   "execution_count": 1,
   "metadata": {},
   "outputs": [],
   "source": [
    "import numpy as np"
   ]
  },
  {
   "cell_type": "code",
   "execution_count": 2,
   "metadata": {},
   "outputs": [],
   "source": [
    "def solve_tridiagnonal_system(e, f, g, r):\n",
    "    \"\"\"\n",
    "    tridiag: solves a set of n linear algebraic equations\n",
    "             with a tridiagonal-banded coefficient matris\n",
    "    input:\n",
    "    e = subdiagonal vector of length n, first element = 0\n",
    "    f = diagonal vector of length n\n",
    "    g = superdiagonal vector of length n, last element = 0\n",
    "    r = constant vector of length n\n",
    "    output:\n",
    "    x = solution vector of length n\n",
    "    \"\"\"\n",
    "    n = len(f)\n",
    "    # forward elimination\n",
    "    x = np.zeros([n])\n",
    "    for k in range(1, n):\n",
    "        factor = e[k]/f[k-1]\n",
    "        f[k] = f[k] - factor*g[k-1]\n",
    "        r[k] = r[k] - factor*r[k-1]\n",
    "    # back substitution\n",
    "    x[n-1] = r[n-1]/f[n-1]\n",
    "    for k in range(n-2, -1, -1):\n",
    "        x[k] = (r[k] - g[k]*x[k+1])/f[k]\n",
    "    return x"
   ]
  },
  {
   "cell_type": "code",
   "execution_count": 3,
   "metadata": {},
   "outputs": [],
   "source": [
    "A = np.array([[0.8, -0.4, 0],\n",
    "              [-0.4, 0.8, -0.4],\n",
    "              [0, -0.4, 0.8]])\n",
    "B = np.array([[41],\n",
    "              [25],\n",
    "              [105]])"
   ]
  },
  {
   "cell_type": "code",
   "execution_count": null,
   "metadata": {},
   "outputs": [
    {
     "ename": "TypeError",
     "evalue": "object of type 'int' has no len()",
     "output_type": "error",
     "traceback": [
      "\u001b[1;31m---------------------------------------------------------------------------\u001b[0m",
      "\u001b[1;31mTypeError\u001b[0m                                 Traceback (most recent call last)",
      "Cell \u001b[1;32mIn[4], line 1\u001b[0m\n\u001b[1;32m----> 1\u001b[0m \u001b[43msolve_tridiagnonal_system\u001b[49m\u001b[43m(\u001b[49m\u001b[38;5;241;43m2\u001b[39;49m\u001b[43m,\u001b[49m\u001b[43m \u001b[49m\u001b[38;5;241;43m3\u001b[39;49m\u001b[43m,\u001b[49m\u001b[43m \u001b[49m\u001b[38;5;241;43m2\u001b[39;49m\u001b[43m,\u001b[49m\u001b[43m \u001b[49m\u001b[38;5;241;43m3\u001b[39;49m\u001b[43m)\u001b[49m\n",
      "Cell \u001b[1;32mIn[2], line 13\u001b[0m, in \u001b[0;36msolve_tridiagnonal_system\u001b[1;34m(e, f, g, r)\u001b[0m\n\u001b[0;32m      1\u001b[0m \u001b[38;5;28;01mdef\u001b[39;00m \u001b[38;5;21msolve_tridiagnonal_system\u001b[39m(e, f, g, r):\n\u001b[0;32m      2\u001b[0m \u001b[38;5;250m    \u001b[39m\u001b[38;5;124;03m\"\"\"\u001b[39;00m\n\u001b[0;32m      3\u001b[0m \u001b[38;5;124;03m    tridiag: solves a set of n linear algebraic equations\u001b[39;00m\n\u001b[0;32m      4\u001b[0m \u001b[38;5;124;03m             with a tridiagonal-banded coefficient matris\u001b[39;00m\n\u001b[1;32m   (...)\u001b[0m\n\u001b[0;32m     11\u001b[0m \u001b[38;5;124;03m    x = solution vector of length n\u001b[39;00m\n\u001b[0;32m     12\u001b[0m \u001b[38;5;124;03m    \"\"\"\u001b[39;00m\n\u001b[1;32m---> 13\u001b[0m     n \u001b[38;5;241m=\u001b[39m \u001b[38;5;28;43mlen\u001b[39;49m\u001b[43m(\u001b[49m\u001b[43mf\u001b[49m\u001b[43m)\u001b[49m\n\u001b[0;32m     14\u001b[0m     \u001b[38;5;66;03m# forward elimination\u001b[39;00m\n\u001b[0;32m     15\u001b[0m     x \u001b[38;5;241m=\u001b[39m np\u001b[38;5;241m.\u001b[39mzeros([n])\n",
      "\u001b[1;31mTypeError\u001b[0m: object of type 'int' has no len()"
     ]
    }
   ],
   "source": []
  },
  {
   "cell_type": "code",
   "execution_count": null,
   "metadata": {},
   "outputs": [],
   "source": []
  }
 ],
 "metadata": {
  "kernelspec": {
   "display_name": "Python 3",
   "language": "python",
   "name": "python3"
  },
  "language_info": {
   "codemirror_mode": {
    "name": "ipython",
    "version": 3
   },
   "file_extension": ".py",
   "mimetype": "text/x-python",
   "name": "python",
   "nbconvert_exporter": "python",
   "pygments_lexer": "ipython3",
   "version": "3.11.9"
  }
 },
 "nbformat": 4,
 "nbformat_minor": 2
}
