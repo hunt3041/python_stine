{
 "cells": [
  {
   "cell_type": "code",
   "execution_count": 1,
   "metadata": {},
   "outputs": [],
   "source": [
    "import numpy as np"
   ]
  },
  {
   "cell_type": "code",
   "execution_count": 2,
   "metadata": {},
   "outputs": [],
   "source": [
    "def solve_tridiagonal_system(e, f, g, r):\n",
    "\n",
    "    \"\"\"\n",
    "    tridiag: solves a set of n linear algebraic equations with a tridiagonal-banded coefficient matrix.\n",
    "\n",
    "    Input:\n",
    "    e = subdiagonal vector of length n, first element = 0\n",
    "    f = diagonal vector of length n\n",
    "    g = superdiagonal vector of length n, last element = 0\n",
    "    r = constant vector of length n\n",
    "\n",
    "    Output:\n",
    "    x = solution vector of length n\n",
    "    \"\"\"\n",
    "    n = len(f)\n",
    "    # Initialize solution vector\n",
    "    x = np.zeros([n])\n",
    "    \n",
    "    # Forward elimination\n",
    "    for k in range(1, n):\n",
    "        factor = e[k] / f[k - 1]\n",
    "        f[k] = f[k] - factor * g[k - 1]\n",
    "        r[k] = r[k] - factor * r[k - 1]\n",
    "    \n",
    "    # Back substitution\n",
    "    x[n - 1] = r[n - 1] / f[n - 1]\n",
    "    for k in range(n - 2, -1, -1):\n",
    "        x[k] = (r[k] - g[k] * x[k + 1]) / f[k]\n",
    "    \n",
    "    return x"
   ]
  },
  {
   "cell_type": "code",
   "execution_count": 3,
   "metadata": {},
   "outputs": [],
   "source": [
    "A = np.array([[0.8, -0.4, 0],\n",
    "              [-0.4, 0.8, -0.4],\n",
    "              [0, -0.4, 0.8]])\n",
    "B = np.array([[41],\n",
    "              [25],\n",
    "              [105]])"
   ]
  },
  {
   "cell_type": "code",
   "execution_count": 4,
   "metadata": {},
   "outputs": [],
   "source": [
    "e = np.array([0, -0.4, -0.4])\n",
    "f = np.array([0.8, 0.8, 0.8])\n",
    "g = np.array([-0.4, -0.4, 0])\n",
    "r = B"
   ]
  },
  {
   "cell_type": "code",
   "execution_count": 5,
   "metadata": {},
   "outputs": [
    {
     "name": "stderr",
     "output_type": "stream",
     "text": [
      "C:\\Users\\Hunter\\AppData\\Local\\Temp\\ipykernel_10548\\187955869.py:26: DeprecationWarning: Conversion of an array with ndim > 0 to a scalar is deprecated, and will error in future. Ensure you extract a single element from your array before performing this operation. (Deprecated NumPy 1.25.)\n",
      "  x[n - 1] = r[n - 1] / f[n - 1]\n",
      "C:\\Users\\Hunter\\AppData\\Local\\Temp\\ipykernel_10548\\187955869.py:28: DeprecationWarning: Conversion of an array with ndim > 0 to a scalar is deprecated, and will error in future. Ensure you extract a single element from your array before performing this operation. (Deprecated NumPy 1.25.)\n",
      "  x[k] = (r[k] - g[k] * x[k + 1]) / f[k]\n"
     ]
    },
    {
     "data": {
      "text/plain": [
       "array([173.125, 243.75 , 253.125])"
      ]
     },
     "execution_count": 5,
     "metadata": {},
     "output_type": "execute_result"
    }
   ],
   "source": [
    "solutions = solve_tridiagonal_system(e, f, g, r)\n",
    "solutions"
   ]
  },
  {
   "cell_type": "code",
   "execution_count": 6,
   "metadata": {},
   "outputs": [
    {
     "data": {
      "text/plain": [
       "array([ 0. , -0.4, -0.4,  0. ])"
      ]
     },
     "execution_count": 6,
     "metadata": {},
     "output_type": "execute_result"
    }
   ],
   "source": [
    "arr = np.insert(e, len(e), 0)\n",
    "arr"
   ]
  },
  {
   "cell_type": "code",
   "execution_count": null,
   "metadata": {},
   "outputs": [],
   "source": []
  }
 ],
 "metadata": {
  "kernelspec": {
   "display_name": "Python 3",
   "language": "python",
   "name": "python3"
  },
  "language_info": {
   "codemirror_mode": {
    "name": "ipython",
    "version": 3
   },
   "file_extension": ".py",
   "mimetype": "text/x-python",
   "name": "python",
   "nbconvert_exporter": "python",
   "pygments_lexer": "ipython3",
   "version": "3.11.9"
  }
 },
 "nbformat": 4,
 "nbformat_minor": 2
}
