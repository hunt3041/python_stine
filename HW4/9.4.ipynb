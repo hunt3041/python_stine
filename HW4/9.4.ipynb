{
 "cells": [
  {
   "cell_type": "code",
   "execution_count": 1,
   "metadata": {},
   "outputs": [],
   "source": [
    "import numpy as np"
   ]
  },
  {
   "cell_type": "code",
   "execution_count": 2,
   "metadata": {},
   "outputs": [],
   "source": [
    "A = np.array([[0, -3, 7],\n",
    "              [1, 2, -1],\n",
    "              [5, -2, 0]], dtype=float)\n",
    "B = np.array([[4],\n",
    "              [0],\n",
    "              [3]], dtype=float)"
   ]
  },
  {
   "cell_type": "code",
   "execution_count": 3,
   "metadata": {},
   "outputs": [
    {
     "data": {
      "text/plain": [
       "array([[ 0.5942029 ],\n",
       "       [-0.01449275],\n",
       "       [ 0.56521739]])"
      ]
     },
     "execution_count": 3,
     "metadata": {},
     "output_type": "execute_result"
    }
   ],
   "source": [
    "# Solution to check\n",
    "solution = np.linalg.solve(A, B)\n",
    "solution"
   ]
  },
  {
   "cell_type": "markdown",
   "metadata": {},
   "source": [
    "### Cramer's Rule Function"
   ]
  },
  {
   "cell_type": "code",
   "execution_count": 4,
   "metadata": {},
   "outputs": [],
   "source": [
    "def cramer(a, b, return_matrices=False):\n",
    "    a_nrows = a.shape[0]\n",
    "    b_nrows = b.shape[0]\n",
    "    if a_nrows != b_nrows:\n",
    "        raise ValueError(\"Incorrect shapes. Check matrix shapes and try again\")\n",
    "    det_A = np.linalg.det(A)\n",
    "    matrices = []\n",
    "    solutions = np.zeros(a_nrows)\n",
    "\n",
    "    for i in range(a_nrows):\n",
    "        matrices.append(a.copy())\n",
    "        matrices[i][:, i] = b[:, 0]\n",
    "        solutions[i] = np.linalg.det(matrices[i])/det_A\n",
    "        \n",
    "    if return_matrices:\n",
    "        return matrices, solutions\n",
    "    \n",
    "    else: \n",
    "        return solutions"
   ]
  },
  {
   "cell_type": "code",
   "execution_count": 5,
   "metadata": {},
   "outputs": [
    {
     "data": {
      "text/plain": [
       "(0.5942028985507251, -0.014492753623188493, 0.5652173913043481)"
      ]
     },
     "execution_count": 5,
     "metadata": {},
     "output_type": "execute_result"
    }
   ],
   "source": [
    "x_1_cramer, x_2_cramer, x_3_cramer = cramer(A, B)\n",
    "x_1_cramer, x_2_cramer, x_3_cramer"
   ]
  },
  {
   "cell_type": "code",
   "execution_count": null,
   "metadata": {},
   "outputs": [],
   "source": [
    "def gaussian_elimination_with_pivoting(a, b):\n",
    "    \n",
    "    nrows = a.shape[0]\n",
    "    if np.linalg.det(a) == 0:\n",
    "        raise ValueError(\"Determinant is equal to 0. Guassian elimination does not produce unique solution.\")\n",
    "    if a.shape[0] != a.shape[1]:\n",
    "        raise ValueError(\"Matrix must be a square matrix\")\n",
    "    \n",
    "    solutions = np.zeros(nrows)\n",
    "\n",
    "    # Augment the matrix\n",
    "    matrix = np.concatenate((a, b), axis=1)\n",
    "\n",
    "    # Sort in reverse order \"Pivoting\"    \n",
    "    matrix = matrix[np.argsort(a[:,0])][::-1]\n",
    "\n",
    "    # Get values below pivots equal to 0 by doing row ops\n",
    "    for i in range(nrows - 1):\n",
    "        matrix[i + 1] = matrix[i + 1] - (matrix[i + 1][i]/matrix[i][i])*matrix[i] \n",
    "    \n",
    "\n",
    "    return matrix, np.linalg.det(a)\n",
    "\n"
   ]
  },
  {
   "cell_type": "code",
   "execution_count": null,
   "metadata": {},
   "outputs": [],
   "source": [
    "def back_substitution(aug_matrix):\n",
    "    nrows = aug_matrix.shape[0]\n",
    "    solutions = np.zeros(nrows)\n",
    "    for i in range(nrows - 1, -1, -1):\n",
    "        solutions[i] = (aug_matrix[i][nrows] - np.dot(aug_matrix[i][:3], solutions))/aug_matrix[i][i] \n",
    "    \n",
    "    return solutions"
   ]
  },
  {
   "cell_type": "code",
   "execution_count": 8,
   "metadata": {},
   "outputs": [],
   "source": [
    "augmented_matrix, determinant = gaussian_elimination_with_pivoting(A, B)"
   ]
  },
  {
   "cell_type": "code",
   "execution_count": 9,
   "metadata": {},
   "outputs": [
    {
     "data": {
      "text/plain": [
       "array([ 0.5942029 , -0.01449275,  0.56521739])"
      ]
     },
     "execution_count": 9,
     "metadata": {},
     "output_type": "execute_result"
    }
   ],
   "source": [
    "solutions = back_substitution(augmented_matrix)\n",
    "solutions"
   ]
  },
  {
   "cell_type": "code",
   "execution_count": 10,
   "metadata": {},
   "outputs": [
    {
     "data": {
      "text/plain": [
       "4.0"
      ]
     },
     "execution_count": 10,
     "metadata": {},
     "output_type": "execute_result"
    }
   ],
   "source": [
    "eq1_hs = -3*solutions[1] + 7*solutions[2]\n",
    "eq1_hs"
   ]
  },
  {
   "cell_type": "code",
   "execution_count": 11,
   "metadata": {},
   "outputs": [
    {
     "data": {
      "text/plain": [
       "-1.1102230246251565e-16"
      ]
     },
     "execution_count": 11,
     "metadata": {},
     "output_type": "execute_result"
    }
   ],
   "source": [
    "eq2_hs = solutions[0] + 2*solutions[1] - solutions[2]\n",
    "eq2_hs"
   ]
  },
  {
   "cell_type": "code",
   "execution_count": 12,
   "metadata": {},
   "outputs": [
    {
     "data": {
      "text/plain": [
       "3.0"
      ]
     },
     "execution_count": 12,
     "metadata": {},
     "output_type": "execute_result"
    }
   ],
   "source": [
    "eq3_hs = 5*solutions[0] - 2*solutions[1]\n",
    "eq3_hs"
   ]
  },
  {
   "cell_type": "code",
   "execution_count": null,
   "metadata": {},
   "outputs": [],
   "source": []
  }
 ],
 "metadata": {
  "kernelspec": {
   "display_name": "Python 3",
   "language": "python",
   "name": "python3"
  },
  "language_info": {
   "codemirror_mode": {
    "name": "ipython",
    "version": 3
   },
   "file_extension": ".py",
   "mimetype": "text/x-python",
   "name": "python",
   "nbconvert_exporter": "python",
   "pygments_lexer": "ipython3",
   "version": "3.10.11"
  }
 },
 "nbformat": 4,
 "nbformat_minor": 2
}
