{
 "cells": [
  {
   "cell_type": "code",
   "execution_count": 1,
   "metadata": {},
   "outputs": [],
   "source": [
    "import numpy as np"
   ]
  },
  {
   "cell_type": "code",
   "execution_count": 2,
   "metadata": {},
   "outputs": [],
   "source": [
    "A = np.array([[0, -3, 7],\n",
    "              [1, 2, -1],\n",
    "              [5, -2, 0]], dtype=float)\n",
    "B = np.array([[4],\n",
    "              [0],\n",
    "              [3]], dtype=float)"
   ]
  },
  {
   "cell_type": "code",
   "execution_count": 3,
   "metadata": {},
   "outputs": [
    {
     "data": {
      "text/plain": [
       "array([[ 0.5942029 ],\n",
       "       [-0.01449275],\n",
       "       [ 0.56521739]])"
      ]
     },
     "execution_count": 3,
     "metadata": {},
     "output_type": "execute_result"
    }
   ],
   "source": [
    "# Solution to check\n",
    "solution = np.linalg.solve(A, B)\n",
    "solution"
   ]
  },
  {
   "cell_type": "markdown",
   "metadata": {},
   "source": [
    "### Cramer's Rule Function"
   ]
  },
  {
   "cell_type": "code",
   "execution_count": 4,
   "metadata": {},
   "outputs": [],
   "source": [
    "def cramer(a, b, return_matrices=False):\n",
    "    a_nrows = a.shape[0]\n",
    "    b_nrows = b.shape[0]\n",
    "    if a_nrows != b_nrows:\n",
    "        raise ValueError(\"Incorrect shapes. Check matrix shapes and try again\")\n",
    "    det_A = np.linalg.det(A)\n",
    "    matrices = []\n",
    "    solutions = np.zeros(a_nrows)\n",
    "\n",
    "    for i in range(a_nrows):\n",
    "        matrices.append(a.copy())\n",
    "        matrices[i][:, i] = b[:, 0]\n",
    "        solutions[i] = np.linalg.det(matrices[i])/det_A\n",
    "        \n",
    "    if return_matrices:\n",
    "        return matrices, solutions\n",
    "    \n",
    "    else: \n",
    "        return solutions"
   ]
  },
  {
   "cell_type": "code",
   "execution_count": 5,
   "metadata": {},
   "outputs": [
    {
     "data": {
      "text/plain": [
       "(np.float64(0.5942028985507251),\n",
       " np.float64(-0.014492753623188493),\n",
       " np.float64(0.5652173913043481))"
      ]
     },
     "execution_count": 5,
     "metadata": {},
     "output_type": "execute_result"
    }
   ],
   "source": [
    "x_1_cramer, x_2_cramer, x_3_cramer = cramer(A, B)\n",
    "x_1_cramer, x_2_cramer, x_3_cramer"
   ]
  },
  {
   "cell_type": "code",
   "execution_count": null,
   "metadata": {},
   "outputs": [],
   "source": [
    "# My Gaussian implementation\n",
    "\n",
    "# def gaussian_elimination_with_pivoting(a, b):\n",
    "#     a = a.astype(float)\n",
    "#     b = b.astype(float)\n",
    "#     nrows = a.shape[0]\n",
    "#     if np.linalg.det(a) == 0:\n",
    "#         raise ValueError(\"Determinant is equal to 0. Guassian elimination does not produce unique solution.\")\n",
    "#     if a.shape[0] != a.shape[1]:\n",
    "#         raise ValueError(\"Matrix must be a square matrix\")\n",
    "    \n",
    "#     solutions = np.zeros(nrows)\n",
    "\n",
    "#     # Augment the matrix\n",
    "#     matrix = np.concatenate((a, b), axis=1)\n",
    "\n",
    "#     # Sort in reverse order \"Pivoting\"    \n",
    "#     matrix = matrix[np.argsort(a[:,0])][::-1]\n",
    "\n",
    "#     # Get values below pivots equal to 0 by doing row ops\n",
    "#     for i in range(nrows - 1):\n",
    "#         matrix[i + 1] = matrix[i + 1] - (matrix[i + 1][i]/matrix[i][i])*matrix[i] \n",
    "    \n",
    "\n",
    "#     return matrix[:,:nrows], matrix[:, -1]\n",
    "\n"
   ]
  },
  {
   "cell_type": "code",
   "execution_count": null,
   "metadata": {},
   "outputs": [],
   "source": [
    "# Thomas's\n",
    "def gaussian_elimination_with_pivoting(A, B):\n",
    "    A = A.astype(float)\n",
    "    B = B.astype(float)\n",
    "    n = A.shape[0]\n",
    "    \n",
    "    for i in range(n):\n",
    "        # Partial pivoting\n",
    "        max_row = np.argmax(np.abs(A[i:, i])) + i\n",
    "        if A[max_row, i] == 0:\n",
    "            raise ValueError(\"Matrix is singular, no unique solution exists.\")\n",
    "        \n",
    "        # Swap rows in both A and B if necessary\n",
    "        if max_row != i:\n",
    "            A[[i, max_row]] = A[[max_row, i]]\n",
    "            B[[i, max_row]] = B[[max_row, i]]\n",
    "        \n",
    "        # Eliminate entries below the pivot\n",
    "        for j in range(i + 1, n):\n",
    "            factor = A[j, i] / A[i, i]\n",
    "            A[j, i:] -= factor * A[i, i:]\n",
    "            B[j] -= factor * B[i]\n",
    "    \n",
    "    return A, B\n"
   ]
  },
  {
   "cell_type": "code",
   "execution_count": 34,
   "metadata": {},
   "outputs": [],
   "source": [
    "def back_substitution(a, b):\n",
    "    nrows = a.shape[0]\n",
    "    solutions = np.zeros(nrows)\n",
    "    for i in range(nrows - 1, -1, -1):\n",
    "        solutions[i] = (b[i] - np.dot(a[i], solutions))/a[i][i] \n",
    "    \n",
    "    return solutions"
   ]
  },
  {
   "cell_type": "code",
   "execution_count": 35,
   "metadata": {},
   "outputs": [
    {
     "name": "stdout",
     "output_type": "stream",
     "text": [
      "Modified A:\n",
      "  [[ 5.  -2.   0. ]\n",
      " [ 0.  -3.   7. ]\n",
      " [ 0.   0.   4.6]]\n",
      "Modified B:\n",
      "  [[3. ]\n",
      " [4. ]\n",
      " [2.6]]\n"
     ]
    }
   ],
   "source": [
    "new_A, new_B = gaussian_elimination_with_pivoting(A, B)\n",
    "print(\"Modified A:\\n \", new_A)\n",
    "print(\"Modified B:\\n \", new_B)"
   ]
  },
  {
   "cell_type": "code",
   "execution_count": 24,
   "metadata": {},
   "outputs": [
    {
     "name": "stderr",
     "output_type": "stream",
     "text": [
      "C:\\Users\\Hunter\\AppData\\Local\\Temp\\ipykernel_21228\\3386322892.py:5: DeprecationWarning: Conversion of an array with ndim > 0 to a scalar is deprecated, and will error in future. Ensure you extract a single element from your array before performing this operation. (Deprecated NumPy 1.25.)\n",
      "  solutions[i] = (b[i] - np.dot(a[i], solutions))/a[i][i]\n"
     ]
    },
    {
     "data": {
      "text/plain": [
       "array([ 0.5942029 , -0.01449275,  0.56521739])"
      ]
     },
     "execution_count": 24,
     "metadata": {},
     "output_type": "execute_result"
    }
   ],
   "source": [
    "solutions = back_substitution(new_A, new_B)\n",
    "solutions"
   ]
  },
  {
   "cell_type": "code",
   "execution_count": 20,
   "metadata": {},
   "outputs": [
    {
     "data": {
      "text/plain": [
       "np.float64(4.0)"
      ]
     },
     "execution_count": 20,
     "metadata": {},
     "output_type": "execute_result"
    }
   ],
   "source": [
    "eq1_hs = -3*solutions[1] + 7*solutions[2]\n",
    "eq1_hs"
   ]
  },
  {
   "cell_type": "code",
   "execution_count": 21,
   "metadata": {},
   "outputs": [
    {
     "data": {
      "text/plain": [
       "np.float64(-1.1102230246251565e-16)"
      ]
     },
     "execution_count": 21,
     "metadata": {},
     "output_type": "execute_result"
    }
   ],
   "source": [
    "eq2_hs = solutions[0] + 2*solutions[1] - solutions[2]\n",
    "eq2_hs"
   ]
  },
  {
   "cell_type": "code",
   "execution_count": 12,
   "metadata": {},
   "outputs": [
    {
     "data": {
      "text/plain": [
       "np.float64(3.0)"
      ]
     },
     "execution_count": 12,
     "metadata": {},
     "output_type": "execute_result"
    }
   ],
   "source": [
    "eq3_hs = 5*solutions[0] - 2*solutions[1]\n",
    "eq3_hs"
   ]
  },
  {
   "cell_type": "code",
   "execution_count": null,
   "metadata": {},
   "outputs": [],
   "source": []
  }
 ],
 "metadata": {
  "kernelspec": {
   "display_name": "Python 3",
   "language": "python",
   "name": "python3"
  },
  "language_info": {
   "codemirror_mode": {
    "name": "ipython",
    "version": 3
   },
   "file_extension": ".py",
   "mimetype": "text/x-python",
   "name": "python",
   "nbconvert_exporter": "python",
   "pygments_lexer": "ipython3",
   "version": "3.11.9"
  }
 },
 "nbformat": 4,
 "nbformat_minor": 2
}
