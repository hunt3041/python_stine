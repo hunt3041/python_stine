{
 "cells": [
  {
   "cell_type": "code",
   "execution_count": 27,
   "metadata": {},
   "outputs": [],
   "source": [
    "import numpy as np"
   ]
  },
  {
   "cell_type": "code",
   "execution_count": 28,
   "metadata": {},
   "outputs": [],
   "source": [
    "def back_substitution(aug_matrix):\n",
    "    nrows = aug_matrix.shape[0]\n",
    "    solutions = np.zeros(nrows)\n",
    "    for i in range(nrows - 1, -1, -1):\n",
    "        solutions[i] = (aug_matrix[i][nrows] - np.dot(aug_matrix[i][:3], solutions))/aug_matrix[i][i] \n",
    "    \n",
    "    return solutions"
   ]
  },
  {
   "cell_type": "code",
   "execution_count": 29,
   "metadata": {},
   "outputs": [],
   "source": [
    "def forward_substitution(aug_matrix):\n",
    "    nrows = aug_matrix.shape[0]\n",
    "    solutions = np.zeros(nrows)\n",
    "    for i in range(nrows):\n",
    "        solutions[i] = (aug_matrix[i][nrows] - np.dot(aug_matrix[i][:3], solutions))/aug_matrix[i][i] \n",
    "        \n",
    "    return solutions"
   ]
  },
  {
   "cell_type": "code",
   "execution_count": 30,
   "metadata": {},
   "outputs": [],
   "source": [
    "def lu_solve(l, u, b):\n",
    "    det_A = np.linalg.det(l)*np.linalg.det(u)\n",
    "    lb = np.concatenate((l, b), axis=1)\n",
    "    y = forward_substitution(lb)\n",
    "    y = y.reshape((len(y), 1))\n",
    "    uy = np.concatenate((u, y), axis=1)\n",
    "    solution = back_substitution(uy)\n",
    "    return det_A, solution[0], solution[1], solution[2]\n",
    "    "
   ]
  },
  {
   "cell_type": "code",
   "execution_count": 31,
   "metadata": {},
   "outputs": [],
   "source": [
    "L = np.array([[1, 0, 0],\n",
    "              [0.6667, 1, 0],\n",
    "              [-0.3333, -0.3636, 1]])\n",
    "U = np.array([[3, -2, 1],\n",
    "              [0, 7.3333, -4.6667],\n",
    "              [0, 0, 3.6364]])\n",
    "B = np.array([[-10],\n",
    "              [44], \n",
    "              [-26]])\n"
   ]
  },
  {
   "cell_type": "code",
   "execution_count": 33,
   "metadata": {},
   "outputs": [
    {
     "data": {
      "text/plain": [
       "(np.float64(80.00043636000002),\n",
       " np.float64(1.000004392377542),\n",
       " np.float64(4.999830755324645),\n",
       " np.float64(-3.0003516664833354))"
      ]
     },
     "execution_count": 33,
     "metadata": {},
     "output_type": "execute_result"
    }
   ],
   "source": [
    "det_A, x1, x2, x3 = lu_solve(L, U, B)\n",
    "det_A, x1, x2, x3"
   ]
  },
  {
   "cell_type": "code",
   "execution_count": null,
   "metadata": {},
   "outputs": [],
   "source": []
  }
 ],
 "metadata": {
  "kernelspec": {
   "display_name": "Python 3",
   "language": "python",
   "name": "python3"
  },
  "language_info": {
   "codemirror_mode": {
    "name": "ipython",
    "version": 3
   },
   "file_extension": ".py",
   "mimetype": "text/x-python",
   "name": "python",
   "nbconvert_exporter": "python",
   "pygments_lexer": "ipython3",
   "version": "3.11.9"
  }
 },
 "nbformat": 4,
 "nbformat_minor": 2
}
