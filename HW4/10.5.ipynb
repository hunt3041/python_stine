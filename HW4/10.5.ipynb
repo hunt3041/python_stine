{
 "cells": [
  {
   "cell_type": "code",
   "execution_count": 1,
   "metadata": {},
   "outputs": [],
   "source": [
    "import numpy as np"
   ]
  },
  {
   "cell_type": "code",
   "execution_count": 2,
   "metadata": {},
   "outputs": [
    {
     "data": {
      "text/plain": [
       "array([[ 6.30563003],\n",
       "       [ 8.58981233],\n",
       "       [-0.92761394]])"
      ]
     },
     "execution_count": 2,
     "metadata": {},
     "output_type": "execute_result"
    }
   ],
   "source": [
    "a = np.array([[2, -6, -1],\n",
    "              [-3, -1, 7],\n",
    "              [-8, 1, -2]], dtype=float)\n",
    "b = np.array([[-38],\n",
    "              [-34],\n",
    "              [-40]],dtype=float)\n",
    "np.linalg.solve(a, b)"
   ]
  },
  {
   "cell_type": "code",
   "execution_count": 13,
   "metadata": {},
   "outputs": [],
   "source": [
    "def lu_factorization(A):\n",
    "\n",
    "    # Get the number of rows\n",
    "    n = A.shape[0]\n",
    "    \n",
    "    # Initialize P, L, and U\n",
    "    P = np.eye(n)\n",
    "    L = np.eye(n)\n",
    "    U = A.copy()\n",
    "    \n",
    "    for i in range(n):\n",
    "      \n",
    "        # Perform elimination to make entries below the pivot equal to zero\n",
    "        for j in range(i + 1, n):\n",
    "            factor = U[j, i] / U[i, i]\n",
    "            U[j, i:] -= factor * U[i, i:]\n",
    "            L[j, i] = factor\n",
    "    \n",
    "    return P, L, U\n",
    "    "
   ]
  },
  {
   "cell_type": "code",
   "execution_count": 12,
   "metadata": {},
   "outputs": [
    {
     "data": {
      "text/plain": [
       "(array([[1., 0., 0.],\n",
       "        [0., 1., 0.],\n",
       "        [0., 0., 1.]]),\n",
       " array([[ 1. ,  0. ,  0. ],\n",
       "        [-1.5,  1. ,  0. ],\n",
       "        [-4. ,  2.3,  1. ]]),\n",
       " array([[  2.  ,  -6.  ,  -1.  ],\n",
       "        [  0.  , -10.  ,   5.5 ],\n",
       "        [  0.  ,   0.  , -18.65]]))"
      ]
     },
     "execution_count": 12,
     "metadata": {},
     "output_type": "execute_result"
    }
   ],
   "source": [
    "lu_factorization(a)"
   ]
  },
  {
   "cell_type": "code",
   "execution_count": 5,
   "metadata": {},
   "outputs": [],
   "source": [
    "def forward_substitution(aug_matrix):\n",
    "    nrows = aug_matrix.shape[0]\n",
    "    solutions = np.zeros(nrows)\n",
    "    for i in range(nrows):\n",
    "        solutions[i] = (aug_matrix[i][nrows] - np.dot(aug_matrix[i][:3], solutions))/aug_matrix[i][i] \n",
    "        \n",
    "    return solutions"
   ]
  },
  {
   "cell_type": "code",
   "execution_count": 6,
   "metadata": {},
   "outputs": [],
   "source": [
    "def back_substitution(aug_matrix):\n",
    "    nrows = aug_matrix.shape[0]\n",
    "    solutions = np.zeros(nrows)\n",
    "    for i in range(nrows - 1, -1, -1):\n",
    "        solutions[i] = (aug_matrix[i][nrows] - np.dot(aug_matrix[i][:3], solutions))/aug_matrix[i][i] \n",
    "    \n",
    "    return solutions"
   ]
  },
  {
   "cell_type": "code",
   "execution_count": 7,
   "metadata": {},
   "outputs": [],
   "source": [
    "def lu_solve(l, u, b):\n",
    "    det_A = np.linalg.det(l)*np.linalg.det(u)\n",
    "    lb = np.concatenate((l, b), axis=1)\n",
    "    y = forward_substitution(lb)\n",
    "    y = y.reshape((len(y), 1))\n",
    "    uy = np.concatenate((u, y), axis=1)\n",
    "    solution = back_substitution(uy)\n",
    "    return solution"
   ]
  },
  {
   "cell_type": "code",
   "execution_count": 8,
   "metadata": {},
   "outputs": [],
   "source": [
    "def solve_lu_factorization_with_pivoting(a, b):\n",
    "    p, l, u = lu_factorization(a)\n",
    "    print(l)\n",
    "    print(u)\n",
    "    return lu_solve(l, u, b)"
   ]
  },
  {
   "cell_type": "code",
   "execution_count": 9,
   "metadata": {},
   "outputs": [
    {
     "name": "stdout",
     "output_type": "stream",
     "text": [
      "[[ 1.          0.          0.        ]\n",
      " [-0.25        1.          0.        ]\n",
      " [ 0.375       0.23913043  1.        ]]\n",
      "[[-8.          1.         -2.        ]\n",
      " [ 0.         -5.75       -1.5       ]\n",
      " [ 0.          0.          8.10869565]]\n"
     ]
    },
    {
     "data": {
      "text/plain": [
       "np.float64(6.230563002680965)"
      ]
     },
     "execution_count": 9,
     "metadata": {},
     "output_type": "execute_result"
    }
   ],
   "source": [
    "x_1, x_2, x_3 = solve_lu_factorization_with_pivoting(a, b)\n",
    "x_1"
   ]
  },
  {
   "cell_type": "code",
   "execution_count": 10,
   "metadata": {},
   "outputs": [
    {
     "data": {
      "text/plain": [
       "array([[ 6.30563003],\n",
       "       [ 8.58981233],\n",
       "       [-0.92761394]])"
      ]
     },
     "execution_count": 10,
     "metadata": {},
     "output_type": "execute_result"
    }
   ],
   "source": [
    "np.linalg.solve(a, b)"
   ]
  },
  {
   "cell_type": "code",
   "execution_count": null,
   "metadata": {},
   "outputs": [],
   "source": []
  }
 ],
 "metadata": {
  "kernelspec": {
   "display_name": "Python 3",
   "language": "python",
   "name": "python3"
  },
  "language_info": {
   "codemirror_mode": {
    "name": "ipython",
    "version": 3
   },
   "file_extension": ".py",
   "mimetype": "text/x-python",
   "name": "python",
   "nbconvert_exporter": "python",
   "pygments_lexer": "ipython3",
   "version": "3.11.9"
  }
 },
 "nbformat": 4,
 "nbformat_minor": 2
}
