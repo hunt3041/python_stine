{
 "cells": [
  {
   "cell_type": "code",
   "execution_count": 14,
   "metadata": {},
   "outputs": [],
   "source": [
    "import numpy as np\n",
    "import math"
   ]
  },
  {
   "cell_type": "code",
   "execution_count": 18,
   "metadata": {},
   "outputs": [],
   "source": [
    "def f(N, T0, T, mu0, q, ni, rho):\n",
    "    return -rho + 1/(q*0.5*(N + math.sqrt(N**2 + 4*ni**2))*mu0*(T/T0)**-2.42)"
   ]
  },
  {
   "cell_type": "code",
   "execution_count": 23,
   "metadata": {},
   "outputs": [],
   "source": [
    "def solve_for_N(T0, T, mu0, q, ni, rho, max_iter=20):\n",
    "    a = 0\n",
    "    b = 2.5e10\n",
    "    if f(a, T0, T, mu0, q, ni, rho )*f(b, T0, T, mu0, q, ni, rho) > 0:\n",
    "        print(\"Bisection method fails. Choose different interval\")\n",
    "        return None\n",
    "    for i in range(max_iter):\n",
    "        c = (a + b)/2\n",
    "        if f(c, T0, T, mu0, q, ni, rho) == 0:\n",
    "            return c\n",
    "        if f(a, T0, T, mu0, q, ni, rho)*f(c, T0, T, mu0, q, ni, rho) < 0:\n",
    "            b = c\n",
    "        else:\n",
    "            a = c\n",
    "    return (a + b)/2 \n",
    "    \n",
    "    "
   ]
  },
  {
   "cell_type": "code",
   "execution_count": 25,
   "metadata": {},
   "outputs": [
    {
     "data": {
      "text/plain": [
       "9113585948.944092"
      ]
     },
     "execution_count": 25,
     "metadata": {},
     "output_type": "execute_result"
    }
   ],
   "source": [
    "T0 = 300\n",
    "T = 1000\n",
    "mu0 = 1360\n",
    "q = 1.7e-19\n",
    "ni = 6.21e9\n",
    "rho = 6.5e6\n",
    "\n",
    "sol = solve_for_N(T0, T, mu0, q, ni, rho)\n",
    "sol"
   ]
  },
  {
   "cell_type": "code",
   "execution_count": null,
   "metadata": {},
   "outputs": [],
   "source": []
  }
 ],
 "metadata": {
  "kernelspec": {
   "display_name": "Python 3",
   "language": "python",
   "name": "python3"
  },
  "language_info": {
   "codemirror_mode": {
    "name": "ipython",
    "version": 3
   },
   "file_extension": ".py",
   "mimetype": "text/x-python",
   "name": "python",
   "nbconvert_exporter": "python",
   "pygments_lexer": "ipython3",
   "version": "3.10.12"
  }
 },
 "nbformat": 4,
 "nbformat_minor": 2
}
