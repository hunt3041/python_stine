{
 "cells": [
  {
   "cell_type": "code",
   "execution_count": 1,
   "metadata": {},
   "outputs": [],
   "source": [
    "import numpy as np\n",
    "import matplotlib.pyplot as plt\n",
    "import math"
   ]
  },
  {
   "cell_type": "code",
   "execution_count": 10,
   "metadata": {},
   "outputs": [
    {
     "name": "stdout",
     "output_type": "stream",
     "text": [
      "Actual: 26.706491141909616 forward approximation: 26.97534542396287, error: 0.010067001337789018\n"
     ]
    }
   ],
   "source": [
    "def f(x):\n",
    "    return 6*math.exp(2*x)\n",
    "def f1(x):\n",
    "    return 12*math.exp(2*x)\n",
    "h = 0.01\n",
    "x = 0.4\n",
    "\n",
    "forward_app = (f(x + h) - f(x))/h\n",
    "error = abs(f1(x) - forward_app)/f1(x)\n",
    "print(f'Actual: {f1(x)} forward approximation: {forward_app}, error: {error}')"
   ]
  },
  {
   "cell_type": "code",
   "execution_count": null,
   "metadata": {},
   "outputs": [],
   "source": []
  }
 ],
 "metadata": {
  "kernelspec": {
   "display_name": "Python 3",
   "language": "python",
   "name": "python3"
  },
  "language_info": {
   "codemirror_mode": {
    "name": "ipython",
    "version": 3
   },
   "file_extension": ".py",
   "mimetype": "text/x-python",
   "name": "python",
   "nbconvert_exporter": "python",
   "pygments_lexer": "ipython3",
   "version": "3.10.11"
  }
 },
 "nbformat": 4,
 "nbformat_minor": 2
}
