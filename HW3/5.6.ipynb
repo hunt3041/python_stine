{
 "cells": [
  {
   "cell_type": "code",
   "execution_count": 9,
   "metadata": {},
   "outputs": [],
   "source": [
    "import math"
   ]
  },
  {
   "cell_type": "code",
   "execution_count": 33,
   "metadata": {},
   "outputs": [],
   "source": []
  },
  {
   "cell_type": "code",
   "execution_count": 34,
   "metadata": {},
   "outputs": [],
   "source": [
    "def false_position_method(xl, xu, tol=5, maxit=30):\n",
    "    \"\"\"\n",
    "      Uses the false position method to estimate a root of f(x).\n",
    "    The method is iterated until the relative error from\n",
    "    one iteration to the next falls below the specified\n",
    "    value or until the maximum number of iterations is\n",
    "    reached first.\n",
    "    Requirement: NumPy module must be imported\n",
    "\n",
    "    Input:\n",
    "    f = name of the ftion\n",
    "    xl = lower guess\n",
    "    xu = upper guess\n",
    "    Ead = absolute error specification  (default 1.e-7)\n",
    "    maxit = maximum number of iterations\n",
    "\n",
    "    Output:\n",
    "    xm = root estimate\n",
    "    Ea = absolute error, last interval of uncertainty\n",
    "    ea = actual relative error achieved\n",
    "    n = number of iterations required\n",
    "    or\n",
    "    error message if initial guesses do not bracket solution\n",
    "\n",
    "    \"\"\"\n",
    "    def f(c):\n",
    "        m = 95\n",
    "        g = 9.81\n",
    "        v = 46\n",
    "        t = 9\n",
    "        return -v + math.sqrt((m*g)/c)*math.tanh((t*math.sqrt(m*g*c))/m)\n",
    "\n",
    "    if f(xl)*f(xu) > 0:\n",
    "        raise ValueError(\"Initial estimates do not bracket solution\")\n",
    "        \n",
    "    xmold = xl\n",
    "    for i in range(maxit):\n",
    "        xm = (f(xu)*xl-f(xl)*xu)/(f(xu)-f(xl))\n",
    "        ea = abs((xm-xmold)/xm)\n",
    "        if ea < tol:\n",
    "            break\n",
    "        if f(xm)*f(xl) > 0:\n",
    "            xl = xm\n",
    "        else:\n",
    "            xu = xm\n",
    "        xmold = xm\n",
    "    return xm, f(xm), ea, i+1\n"
   ]
  },
  {
   "cell_type": "code",
   "execution_count": 35,
   "metadata": {},
   "outputs": [
    {
     "data": {
      "text/plain": [
       "(0.39874679621587855, -0.09879406102424326, 0.014045646975104154, 3)"
      ]
     },
     "execution_count": 35,
     "metadata": {},
     "output_type": "execute_result"
    }
   ],
   "source": [
    "stuff = false_position_method(f, 0.2, 0.5, .05, 30)\n",
    "stuff"
   ]
  },
  {
   "cell_type": "code",
   "execution_count": null,
   "metadata": {},
   "outputs": [],
   "source": []
  }
 ],
 "metadata": {
  "kernelspec": {
   "display_name": "Python 3",
   "language": "python",
   "name": "python3"
  },
  "language_info": {
   "codemirror_mode": {
    "name": "ipython",
    "version": 3
   },
   "file_extension": ".py",
   "mimetype": "text/x-python",
   "name": "python",
   "nbconvert_exporter": "python",
   "pygments_lexer": "ipython3",
   "version": "3.10.11"
  }
 },
 "nbformat": 4,
 "nbformat_minor": 2
}
