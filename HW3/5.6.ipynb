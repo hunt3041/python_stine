{
 "cells": [
  {
   "cell_type": "code",
   "execution_count": 8,
   "metadata": {},
   "outputs": [],
   "source": [
    "import math"
   ]
  },
  {
   "cell_type": "code",
   "execution_count": 14,
   "metadata": {},
   "outputs": [],
   "source": [
    "def false_position_method(xl, xu, tol=5, maxit=30):\n",
    "    \"\"\"\n",
    "    xl: lower guess for drag coefficient\n",
    "    xu: upper guess for drag coefficient\n",
    "    tol: tolerance for stopping criterion (as a percentage)\n",
    "    Returns: the drag coefficient that gives the target velocity.\n",
    "    \"\"\"\n",
    "    def f(c):\n",
    "        m = 95\n",
    "        g = 9.81\n",
    "        v = 4\n",
    "        t = 9\n",
    "        return -v + math.sqrt((m*g)/c)*math.tanh((t*math.sqrt(m*g*c))/m)\n",
    "    \n",
    "    iter = 1\n",
    "    ea = 100\n",
    "    cold = xl\n",
    "    ci = xu - (f(xu)*(xu - xl))/(f(xu) - f(xl))\n",
    "    if f(ci) == 0:\n",
    "        return ci, 0\n",
    "    while True:\n",
    "        c = xu - (f(xu)*(xu - xl))/(f(xu) - f(xl))\n",
    "        ea = (abs(c - cold)/c)*100\n",
    "        if ea < tol or iter >= maxit:\n",
    "            return c, ea\n",
    "        \n",
    "        if f(xl)*f(c) < 0:\n",
    "            xu = c\n",
    "        else:\n",
    "            xl = c\n",
    "        cold = c\n",
    "        iter += 1\n"
   ]
  },
  {
   "cell_type": "code",
   "execution_count": 16,
   "metadata": {},
   "outputs": [
    {
     "data": {
      "text/plain": [
       "(28.803663717876997, 4.759624377562376)"
      ]
     },
     "execution_count": 16,
     "metadata": {},
     "output_type": "execute_result"
    }
   ],
   "source": [
    "sol, error = false_position_method(0.2, 0.5, 5, 30)\n",
    "sol, error"
   ]
  },
  {
   "cell_type": "code",
   "execution_count": null,
   "metadata": {},
   "outputs": [],
   "source": []
  }
 ],
 "metadata": {
  "kernelspec": {
   "display_name": "Python 3",
   "language": "python",
   "name": "python3"
  },
  "language_info": {
   "codemirror_mode": {
    "name": "ipython",
    "version": 3
   },
   "file_extension": ".py",
   "mimetype": "text/x-python",
   "name": "python",
   "nbconvert_exporter": "python",
   "pygments_lexer": "ipython3",
   "version": "3.10.12"
  }
 },
 "nbformat": 4,
 "nbformat_minor": 2
}
