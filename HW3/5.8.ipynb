{
 "cells": [
  {
   "cell_type": "code",
   "execution_count": 9,
   "metadata": {},
   "outputs": [],
   "source": [
    "import math\n",
    "import numpy as np\n",
    "import matplotlib.pyplot as plt"
   ]
  },
  {
   "cell_type": "code",
   "execution_count": 10,
   "metadata": {},
   "outputs": [],
   "source": [
    "def f(x):\n",
    "    return np.sin(x) - x**2"
   ]
  },
  {
   "cell_type": "code",
   "execution_count": 18,
   "metadata": {},
   "outputs": [],
   "source": [
    "def incremental_search( xmin, xmax, step=1.e-6):\n",
    "    \"\"\"\n",
    "    incsearch: incremental search locator\n",
    "        incsearch(func,xmin,xmax,ns)\n",
    "        finds brackets of x that contain sign changes in\n",
    "        a function of x on an interval\n",
    "    input: \n",
    "        func = name of the function\n",
    "        xmin, xmax = endpoints of the interval\n",
    "        ns = number of subintervals, default value = 50\n",
    "    output:  a tuple containing\n",
    "        nb = number of bracket pairs found\n",
    "        xb = list of bracket pair values\n",
    "        or returns \"no brackets found\"\n",
    "    \"\"\"\n",
    "\n",
    "    def func(x):\n",
    "        return math.sin(x) - x**2\n",
    "    \n",
    "    x = np.arange(xmin, xmax, step)  # create array of x values\n",
    "    f = []  # build array of corresponding function values\n",
    "    for k in range(len(x)-1):\n",
    "        f.append(func(x[k]))\n",
    "    nb = 0\n",
    "    xb = []\n",
    "    for k in range(len(x) - 2):  # check adjacent pairs of function values\n",
    "        if func(x[k])*func(x[k+1]) < 0:  # for sign change\n",
    "            nb = nb + 1  # increment the bracket counter\n",
    "            xb.append((x[k], x[k+1]))  # save the bracketing pair\n",
    "    if nb == 0:\n",
    "        return 'no brackets found'\n",
    "    else:\n",
    "        return xb"
   ]
  },
  {
   "cell_type": "code",
   "execution_count": 17,
   "metadata": {},
   "outputs": [
    {
     "data": {
      "text/plain": [
       "[(0.8767259999993633, 0.8767269999993633)]"
      ]
     },
     "execution_count": 17,
     "metadata": {},
     "output_type": "execute_result"
    }
   ],
   "source": [
    "interval = incremental_search(0.01, 2, 1.e-6)\n",
    "interval"
   ]
  },
  {
   "cell_type": "code",
   "execution_count": 13,
   "metadata": {},
   "outputs": [],
   "source": [
    "def plot_function():\n",
    "    x = np.linspace(0.01, 2, 300)\n",
    "    fig, ax1 = plt.subplots()\n",
    "    ax1.set_xlabel('x')\n",
    "    ax1.set_ylabel('f(x)')\n",
    "    ax1.set_title('f(x) = sin(x) - x^2')\n",
    "    ax1.plot(x, f(x))\n",
    "    ax1.grid(True)\n",
    "    return ax1"
   ]
  },
  {
   "cell_type": "code",
   "execution_count": 14,
   "metadata": {},
   "outputs": [
    {
     "data": {
      "text/plain": [
       "<Axes: title={'center': 'f(x) = sin(x) - x^2'}, xlabel='x', ylabel='f(x)'>"
      ]
     },
     "execution_count": 14,
     "metadata": {},
     "output_type": "execute_result"
    },
    {
     "data": {
      "image/png": "[encoded data removed]",
      "text/plain": [
       "<Figure size 640x480 with 1 Axes>"
      ]
     },
     "metadata": {},
     "output_type": "display_data"
    }
   ],
   "source": [
    "plot_function()"
   ]
  },
  {
   "cell_type": "code",
   "execution_count": 15,
   "metadata": {},
   "outputs": [],
   "source": [
    "def bisection_method( xl, xu, es=1.e-7, maxit=30):\n",
    "    \"\"\"\n",
    "    Uses the bisection method to estimate a root of func(x).\n",
    "    The method is iterated until the relative error from\n",
    "    one iteration to the next falls below the specified\n",
    "    value or until the maximum number of iterations is\n",
    "    reached first.\n",
    "    Input:\n",
    "        func = name of the function\n",
    "        xl = lower guess\n",
    "        xu = upper guess\n",
    "        es = relative error specification  (default 1.e-7)\n",
    "        maxit = maximum number of iterations allowed (default 30)\n",
    "    Output:\n",
    "        xm = root estimate\n",
    "        fm = function value at the root estimate\n",
    "        ea = actual relative error achieved\n",
    "        i+1 = number of iterations required\n",
    "        or\n",
    "        error message if initial guesses do not bracket solution\n",
    "    \"\"\"\n",
    "    def func(x):\n",
    "        return math.sin(x) - x**2\n",
    "    \n",
    "    if func(xl)*func(xu) > 0:\n",
    "        return 'initial estimates do not bracket solution'\n",
    "    xmold = xl\n",
    "    for i in range(maxit):\n",
    "        xm = (xl+xu)/2\n",
    "        ea = abs((xm-xmold)/xm)\n",
    "        if ea < es:\n",
    "            break\n",
    "        if func(xm)*func(xl) > 0:\n",
    "            xl = xm\n",
    "        else:\n",
    "            xu = xm\n",
    "        xmold = xm\n",
    "    return xm, ea, i+2\n",
    "\n"
   ]
  },
  {
   "cell_type": "code",
   "execution_count": 16,
   "metadata": {},
   "outputs": [
    {
     "data": {
      "text/plain": [
       "(0.876726242005825, 6.76455416310783e-08, 26)"
      ]
     },
     "execution_count": 16,
     "metadata": {},
     "output_type": "execute_result"
    }
   ],
   "source": [
    "bisection_method(.01, 2)"
   ]
  },
  {
   "cell_type": "code",
   "execution_count": null,
   "metadata": {},
   "outputs": [],
   "source": []
  }
 ],
 "metadata": {
  "kernelspec": {
   "display_name": "Python 3",
   "language": "python",
   "name": "python3"
  },
  "language_info": {
   "codemirror_mode": {
    "name": "ipython",
    "version": 3
   },
   "file_extension": ".py",
   "mimetype": "text/x-python",
   "name": "python",
   "nbconvert_exporter": "python",
   "pygments_lexer": "ipython3",
   "version": "3.10.11"
  }
 },
 "nbformat": 4,
 "nbformat_minor": 2
}
