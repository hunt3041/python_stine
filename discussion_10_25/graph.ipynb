{
 "cells": [
  {
   "cell_type": "code",
   "execution_count": 3,
   "metadata": {},
   "outputs": [],
   "source": [
    "from Node import Node"
   ]
  },
  {
   "cell_type": "code",
   "execution_count": 4,
   "metadata": {},
   "outputs": [],
   "source": [
    "node_1 = Node(1)\n",
    "node_2 = Node(2)\n",
    "node_3 = Node(3)\n",
    "node_4 = Node(4)\n",
    "node_5 = Node(5)\n",
    "node_6 = Node(6)\n",
    "node_7 = Node(7)\n",
    "node_8 = Node(8)\n",
    "node_9 = Node(9)\n",
    "node_10 = Node(10)\n",
    "node_11 = Node(11)\n",
    "node_12 = Node(12)\n",
    "node_13 = Node(13)\n",
    "node_14 = Node(14)\n",
    "node_15 = Node(15)"
   ]
  },
  {
   "cell_type": "code",
   "execution_count": 5,
   "metadata": {},
   "outputs": [],
   "source": [
    "node_1.set_left(node_2)\n",
    "node_1.set_root(True)\n",
    "node_2.set_left(node_4)\n",
    "node_4.set_left(node_8)\n",
    "node_4.set_right(node_9)\n",
    "node_2.set_right(node_5)\n",
    "node_5.set_left(node_10)\n",
    "node_5.set_right(node_11)\n",
    "\n",
    "node_1.set_right(node_3)\n",
    "node_3.set_left(node_6)\n",
    "node_6.set_left(node_12)\n",
    "node_6.set_right(node_13)\n",
    "node_3.set_right(node_7)\n",
    "node_7.set_left(node_14)\n",
    "node_7.set_right(node_15)\n",
    "\n"
   ]
  },
  {
   "cell_type": "code",
   "execution_count": 6,
   "metadata": {},
   "outputs": [
    {
     "ename": "",
     "evalue": "",
     "output_type": "error",
     "traceback": [
      "\u001b[1;31mThe Kernel crashed while executing code in the current cell or a previous cell. \n",
      "\u001b[1;31mPlease review the code in the cell(s) to identify a possible cause of the failure. \n",
      "\u001b[1;31mClick <a href='https://aka.ms/vscodeJupyterKernelCrash'>here</a> for more info. \n",
      "\u001b[1;31mView Jupyter <a href='command:jupyter.viewOutput'>log</a> for further details."
     ]
    }
   ],
   "source": [
    "\n",
    "def preorder_traversal(start, tree):\n",
    "    if start.is_root == True:\n",
    "        print(start.value)\n",
    "    if start.left != None:\n",
    "        print(start.left.value)\n",
    "        tree.append(start)\n",
    "        preorder_traversal(start.left, tree)\n",
    "    else:\n",
    "        print(len(tree))\n",
    "        if tree[len(tree) - 1].right and tree[len(tree) - 1].left in tree:\n",
    "            return\n",
    "        preorder_traversal(tree[len(tree) - 1].right, tree)\n",
    "    \n",
    "    "
   ]
  },
  {
   "cell_type": "code",
   "execution_count": null,
   "metadata": {},
   "outputs": [],
   "source": [
    "tree = []\n",
    "preorder_traversal(node_1, tree)"
   ]
  },
  {
   "cell_type": "code",
   "execution_count": null,
   "metadata": {},
   "outputs": [],
   "source": []
  }
 ],
 "metadata": {
  "kernelspec": {
   "display_name": "Python 3",
   "language": "python",
   "name": "python3"
  },
  "language_info": {
   "codemirror_mode": {
    "name": "ipython",
    "version": 3
   },
   "file_extension": ".py",
   "mimetype": "text/x-python",
   "name": "python",
   "nbconvert_exporter": "python",
   "pygments_lexer": "ipython3",
   "version": "3.10.11"
  }
 },
 "nbformat": 4,
 "nbformat_minor": 2
}
